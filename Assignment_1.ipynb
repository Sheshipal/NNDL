{
  "nbformat": 4,
  "nbformat_minor": 0,
  "metadata": {
    "colab": {
      "name": "Assignment-1.ipynb",
      "provenance": []
    },
    "kernelspec": {
      "name": "python3",
      "display_name": "Python 3"
    }
  },
  "cells": [
    {
      "cell_type": "code",
      "metadata": {
        "id": "MSm92kQ6_wWc"
      },
      "source": [
        "# given function is pow(x,4)+3*pow(x,2)+10\r\n",
        "\r\n",
        "x = 3 # initial x value\r\n",
        "learning_rate = 0.01 # learning rate\r\n",
        "epochs = 100 # number of epochs\r\n",
        "\r\n",
        "# function to find the gradient descent\r\n",
        "def gradient(x):\r\n",
        "  return 4*pow(x,3)+6*x"
      ],
      "execution_count": 26,
      "outputs": []
    },
    {
      "cell_type": "code",
      "metadata": {
        "id": "wErYwerBAo7r"
      },
      "source": [
        "# training loop\r\n",
        "for i in range(0,epochs):\r\n",
        "  grad = gradient(x)\r\n",
        "  delta_x = -1*learning_rate*grad\r\n",
        "  x = x + delta_x"
      ],
      "execution_count": 27,
      "outputs": []
    },
    {
      "cell_type": "code",
      "metadata": {
        "colab": {
          "base_uri": "https://localhost:8080/"
        },
        "id": "2bXY3honBdDj",
        "outputId": "1cc2318f-bbcd-403d-e080-1bb23c581662"
      },
      "source": [
        "# optimal value of x\r\n",
        "print(x)"
      ],
      "execution_count": 28,
      "outputs": [
        {
          "output_type": "stream",
          "text": [
            "0.002069222197565439\n"
          ],
          "name": "stdout"
        }
      ]
    },
    {
      "cell_type": "code",
      "metadata": {
        "colab": {
          "base_uri": "https://localhost:8080/"
        },
        "id": "PunuJEZGBxuQ",
        "outputId": "43708fa0-97d2-464a-fc72-579e576f0d17"
      },
      "source": [
        "# minimal value of the given function\r\n",
        "print(pow(x,4)+3*pow(x,2)+10)"
      ],
      "execution_count": 29,
      "outputs": [
        {
          "output_type": "stream",
          "text": [
            "10.00001284505984\n"
          ],
          "name": "stdout"
        }
      ]
    },
    {
      "cell_type": "code",
      "metadata": {
        "id": "sDPTNA44CmXg"
      },
      "source": [
        ""
      ],
      "execution_count": null,
      "outputs": []
    }
  ]
}