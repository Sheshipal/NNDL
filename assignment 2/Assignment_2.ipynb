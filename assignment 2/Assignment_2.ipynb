{
  "nbformat": 4,
  "nbformat_minor": 0,
  "metadata": {
    "colab": {
      "name": "Assignment_2.ipynb",
      "provenance": [],
      "collapsed_sections": []
    },
    "kernelspec": {
      "name": "python3",
      "display_name": "Python 3"
    }
  },
  "cells": [
    {
      "cell_type": "code",
      "metadata": {
        "id": "mk6DYhivD3Og"
      },
      "source": [
        "import math"
      ],
      "execution_count": null,
      "outputs": []
    },
    {
      "cell_type": "code",
      "metadata": {
        "colab": {
          "base_uri": "https://localhost:8080/"
        },
        "id": "mVvE7SvjTL1u",
        "outputId": "4c90b16a-954d-4804-c4e9-70a08b876634"
      },
      "source": [
        "# let us consider the function f(x,y) = x^2 + y^2 + 10\r\n",
        "\r\n",
        "\r\n",
        "epochs = 300\r\n",
        "learning_rate = 0.01\r\n",
        "x = 1\r\n",
        "y = -1\r\n",
        "\r\n",
        "def gradientx(x):\r\n",
        "  # derivative with respect to x\r\n",
        "\treturn 2*x\r\n",
        "\t\r\n",
        "def gradienty(y):\r\n",
        "  # derivative with respect to y\r\n",
        "\treturn 2*y\r\n",
        "\r\n",
        "for i in range(1,epochs):\r\n",
        "    deltax = -1*learning_rate*gradientx(x)\r\n",
        "    deltay = -1*learning_rate*gradienty(y)\r\n",
        "    x = x + deltax\r\n",
        "    y = y + deltay\r\n",
        "    \r\n",
        "print(\"optimal value of x : \", x)\r\n",
        "print(\"optimal value of y : \", y)\r\n",
        "\r\n",
        "print(\"minimum value is : \", x**2 + y**2 + 10)"
      ],
      "execution_count": null,
      "outputs": [
        {
          "output_type": "stream",
          "text": [
            "optimal value of x :  0.0023801078244402294\n",
            "optimal value of y :  -0.0023801078244402294\n",
            "minimum value is :  10.000011329826512\n"
          ],
          "name": "stdout"
        }
      ]
    },
    {
      "cell_type": "code",
      "metadata": {
        "id": "uY6l1RrAjWfY",
        "colab": {
          "base_uri": "https://localhost:8080/"
        },
        "outputId": "ff2700c5-63b6-4cc9-e184-910448d8ca10"
      },
      "source": [
        "# let us consider the function f(x,y) = 3*x^2 + 5*e^-y + 10\r\n",
        "\r\n",
        "\r\n",
        "epochs = 300\r\n",
        "learning_rate = 0.01\r\n",
        "x = 1\r\n",
        "y = -1\r\n",
        "\r\n",
        "def gradientx(x):\r\n",
        "  # derivative with respect to x\r\n",
        "\treturn 6*x\r\n",
        "\t\r\n",
        "def gradienty(y):\r\n",
        "  # derivative with respect to y\r\n",
        "\treturn -1*5*(math.pow(math.e,-1*y))\r\n",
        "\r\n",
        "for i in range(1,epochs):\r\n",
        "    deltax = -1*learning_rate*gradientx(x)\r\n",
        "    deltay = -1*learning_rate*gradienty(y)\r\n",
        "    x = x + deltax\r\n",
        "    y = y + deltay\r\n",
        "    \r\n",
        "print(\"optimal value of x : \", x)\r\n",
        "print(\"optimal value of y : \", y)\r\n",
        "\r\n",
        "print(\"minimum value is : \", 3*math.pow(x,2) + 5*math.pow(math.e,-1*y) + 10)"
      ],
      "execution_count": null,
      "outputs": [
        {
          "output_type": "stream",
          "text": [
            "optimal value of x :  9.230563755373866e-09\n",
            "optimal value of y :  2.7351741233803066\n",
            "minimum value is :  10.324413542618464\n"
          ],
          "name": "stdout"
        }
      ]
    },
    {
      "cell_type": "code",
      "metadata": {
        "id": "4NNFcTWAF9Q-"
      },
      "source": [
        ""
      ],
      "execution_count": null,
      "outputs": []
    }
  ]
}