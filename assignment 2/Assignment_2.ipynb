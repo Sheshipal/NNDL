{
  "nbformat": 4,
  "nbformat_minor": 0,
  "metadata": {
    "colab": {
      "name": "Assignment_2.ipynb",
      "provenance": [],
      "collapsed_sections": []
    },
    "kernelspec": {
      "name": "python3",
      "display_name": "Python 3"
    }
  },
  "cells": [
    {
      "cell_type": "code",
      "metadata": {
        "colab": {
          "base_uri": "https://localhost:8080/"
        },
        "id": "mVvE7SvjTL1u",
        "outputId": "0bbe5f6f-c685-45fe-93a3-b604cf4d4f73"
      },
      "source": [
        "epochs = 300\r\n",
        "learning_rate = 0.01\r\n",
        "x = 1\r\n",
        "y = -1\r\n",
        "\r\n",
        "def gradientx(x):\r\n",
        "\treturn 2*x\r\n",
        "\t\r\n",
        "def gradienty(y):\r\n",
        "\treturn 2*y\r\n",
        "\r\n",
        "for i in range(1,epochs):\r\n",
        "    deltax = -1*learning_rate*gradientx(x)\r\n",
        "    deltay = -1*learning_rate*gradienty(y)\r\n",
        "    x = x + deltax\r\n",
        "    y = y + deltay\r\n",
        "    \r\n",
        "print(\"optimal value of x : \", x)\r\n",
        "print(\"optimal value of y : \", y)"
      ],
      "execution_count": 1,
      "outputs": [
        {
          "output_type": "stream",
          "text": [
            "optimal value of x :  0.0023801078244402294\n",
            "optimal value of y :  -0.0023801078244402294\n"
          ],
          "name": "stdout"
        }
      ]
    },
    {
      "cell_type": "code",
      "metadata": {
        "id": "uY6l1RrAjWfY"
      },
      "source": [
        ""
      ],
      "execution_count": null,
      "outputs": []
    }
  ]
}