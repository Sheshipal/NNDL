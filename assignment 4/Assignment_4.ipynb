{
  "nbformat": 4,
  "nbformat_minor": 0,
  "metadata": {
    "colab": {
      "name": "Assignment_4.ipynb",
      "provenance": [],
      "collapsed_sections": []
    },
    "kernelspec": {
      "name": "python3",
      "display_name": "Python 3"
    }
  },
  "cells": [
    {
      "cell_type": "code",
      "metadata": {
        "id": "CTn5RL55Wa7X"
      },
      "source": [
        "import math\r\n",
        "import matplotlib.pyplot as plt"
      ],
      "execution_count": 6,
      "outputs": []
    },
    {
      "cell_type": "code",
      "metadata": {
        "colab": {
          "base_uri": "https://localhost:8080/"
        },
        "id": "ejQ5WdL5Wc3I",
        "outputId": "6da88a41-6386-4b3c-dc0e-a971bb74c2d9"
      },
      "source": [
        "x = [0.2,0.4,0.6,0.8,1.0,1.2]\r\n",
        "y = [3.4,3.8,4.2,4.6,5.0,5.4]\r\n",
        "\r\n",
        "m = 1\r\n",
        "c = -1\r\n",
        "\r\n",
        "learning_rate = 0.1\r\n",
        "epochs = 300\r\n",
        "error_list = []\r\n",
        "\r\n",
        "def gradientm(x,y,m,c):\r\n",
        "  sum = 0\r\n",
        "  number_of_samples = len(x)\r\n",
        "  for i in range(number_of_samples):\r\n",
        "    gradm_of_i = (y[i]- m*x[i] - c)*x[i]\r\n",
        "    sum = sum + gradm_of_i\r\n",
        "  gradm = -1*(1/number_of_samples)*sum\r\n",
        "  return gradm\r\n",
        "\r\n",
        "def gradientc(x,y,m,c):\r\n",
        "  sum = 0\r\n",
        "  number_of_samples = len(x)\r\n",
        "  for i in range(number_of_samples):\r\n",
        "    gradc_of_i = (y[i]- m*x[i] - c)\r\n",
        "    sum = sum + gradc_of_i\r\n",
        "  gradc = -1*(1/number_of_samples)*sum\r\n",
        "  return gradc\r\n",
        "\r\n",
        "def error(x,y,m,c):\r\n",
        "  number_of_samples = len(x)\r\n",
        "  for i in range(number_of_samples):\r\n",
        "    error_value = 1*0.5*(1/number_of_samples)*math.pow((y[i] - m*x[i] - c), 2)\r\n",
        "  return error_value\r\n",
        "\r\n",
        "\r\n",
        "for i in range(epochs):\r\n",
        "  error_list.append(error(x,y,m,c))\r\n",
        "  deltam = -1*learning_rate*gradientm(x,y,m,c)\r\n",
        "  deltac = -1*learning_rate*gradientc(x,y,m,c)\r\n",
        "  m = m + deltam\r\n",
        "  c = c + deltac\r\n",
        "\r\n",
        "print(m,c)"
      ],
      "execution_count": 13,
      "outputs": [
        {
          "output_type": "stream",
          "text": [
            "2.129913563101812 2.901556021161016\n"
          ],
          "name": "stdout"
        }
      ]
    },
    {
      "cell_type": "code",
      "metadata": {
        "colab": {
          "base_uri": "https://localhost:8080/",
          "height": 313
        },
        "id": "mHobhfJCb7V9",
        "outputId": "02ca1da0-ef2c-448b-a12b-2baf78f4af6a"
      },
      "source": [
        "x1 = range(epochs)\r\n",
        "y1 = error_list\r\n",
        "\r\n",
        "plt.plot(x1,y1)\r\n",
        "plt.xlabel(\"number of iterations\")\r\n",
        "plt.ylabel(\"error\")\r\n",
        "plt.title(\"error graph in case of BGD\")"
      ],
      "execution_count": 14,
      "outputs": [
        {
          "output_type": "execute_result",
          "data": {
            "text/plain": [
              "Text(0.5, 1.0, 'error graph in case of BGD')"
            ]
          },
          "metadata": {
            "tags": []
          },
          "execution_count": 14
        },
        {
          "output_type": "display_data",
          "data": {
            "image/png": "[encoded data removed]",
            "text/plain": [
              "<Figure size 432x288 with 1 Axes>"
            ]
          },
          "metadata": {
            "tags": [],
            "needs_background": "light"
          }
        }
      ]
    },
    {
      "cell_type": "code",
      "metadata": {
        "colab": {
          "base_uri": "https://localhost:8080/",
          "height": 299
        },
        "id": "gSJY4fVPlBX0",
        "outputId": "9131f01b-1560-4846-cd4c-cebd668ca69c"
      },
      "source": [
        "x2 = range(0,2)\r\n",
        "y2 = [m*i+c for i in x2]\r\n",
        "\r\n",
        "plt.plot(x2,y2)\r\n",
        "plt.scatter(x,y)\r\n",
        "plt.title(\"line which is generated after training\")"
      ],
      "execution_count": 15,
      "outputs": [
        {
          "output_type": "execute_result",
          "data": {
            "text/plain": [
              "Text(0.5, 1.0, 'line which is generated after training')"
            ]
          },
          "metadata": {
            "tags": []
          },
          "execution_count": 15
        },
        {
          "output_type": "display_data",
          "data": {
            "image/png": "[encoded data removed]",
            "text/plain": [
              "<Figure size 432x288 with 1 Axes>"
            ]
          },
          "metadata": {
            "tags": [],
            "needs_background": "light"
          }
        }
      ]
    },
    {
      "cell_type": "code",
      "metadata": {
        "id": "bCIgcGZeeXeZ"
      },
      "source": [
        ""
      ],
      "execution_count": 9,
      "outputs": []
    }
  ]
}