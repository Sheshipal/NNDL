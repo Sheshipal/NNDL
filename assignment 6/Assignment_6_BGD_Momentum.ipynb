{
  "nbformat": 4,
  "nbformat_minor": 0,
  "metadata": {
    "colab": {
      "name": "Assignment_6_BGD_Momentum.ipynb",
      "provenance": []
    },
    "kernelspec": {
      "name": "python3",
      "display_name": "Python 3"
    }
  },
  "cells": [
    {
      "cell_type": "code",
      "metadata": {
        "id": "IvYgjHBi7oon"
      },
      "source": [
        "import math\r\n",
        "import matplotlib.pyplot as plt"
      ],
      "execution_count": 2,
      "outputs": []
    },
    {
      "cell_type": "code",
      "metadata": {
        "colab": {
          "base_uri": "https://localhost:8080/"
        },
        "id": "UQs5LsS474Zn",
        "outputId": "e92a274f-197a-4dba-a9fa-40ada20729be"
      },
      "source": [
        "x = [0.2,0.4,0.6,0.8,1.0,1.2]\r\n",
        "y = [3.4,3.8,4.2,4.6,5.0,5.4]\r\n",
        "\r\n",
        "m = 1\r\n",
        "c = -1\r\n",
        "\r\n",
        "v_m = 0\r\n",
        "v_c = 0\r\n",
        "momentum_coeff = 0.9\r\n",
        "\r\n",
        "learning_rate = 0.1\r\n",
        "epochs = 100\r\n",
        "error_list = []\r\n",
        "\r\n",
        "def gradientm(x,y,m,c):\r\n",
        "  sum = 0\r\n",
        "  number_of_samples = len(x)\r\n",
        "  for i in range(number_of_samples):\r\n",
        "    gradm_of_i = (y[i]- m*x[i] - c)*x[i]\r\n",
        "    sum = sum + gradm_of_i\r\n",
        "  gradm = -1*(1/number_of_samples)*sum\r\n",
        "  return gradm\r\n",
        "\r\n",
        "def gradientc(x,y,m,c):\r\n",
        "  sum = 0\r\n",
        "  number_of_samples = len(x)\r\n",
        "  for i in range(number_of_samples):\r\n",
        "    gradc_of_i = (y[i]- m*x[i] - c)\r\n",
        "    sum = sum + gradc_of_i\r\n",
        "  gradc = -1*(1/number_of_samples)*sum\r\n",
        "  return gradc\r\n",
        "\r\n",
        "def error(x,y,m,c):\r\n",
        "  number_of_samples = len(x)\r\n",
        "  for i in range(number_of_samples):\r\n",
        "    error_value = 1*0.5*(1/number_of_samples)*math.pow((y[i] - m*x[i] - c), 2)\r\n",
        "  return error_value\r\n",
        "\r\n",
        "\r\n",
        "for i in range(epochs):\r\n",
        "  error_list.append(error(x,y,m,c))\r\n",
        "  deltam = -1*learning_rate*gradientm(x,y,m,c)\r\n",
        "  deltac = -1*learning_rate*gradientc(x,y,m,c)\r\n",
        "\r\n",
        "  v_m = v_m*momentum_coeff + deltam\r\n",
        "  v_c = v_c*momentum_coeff + deltac\r\n",
        "\r\n",
        "  m = m + v_m\r\n",
        "  c = c + v_c\r\n",
        "\r\n",
        "print(m,c)"
      ],
      "execution_count": 4,
      "outputs": [
        {
          "output_type": "stream",
          "text": [
            "2.016617014671816 3.0064697324219942\n"
          ],
          "name": "stdout"
        }
      ]
    },
    {
      "cell_type": "code",
      "metadata": {
        "colab": {
          "base_uri": "https://localhost:8080/",
          "height": 313
        },
        "id": "ZtIz_VCh-A1p",
        "outputId": "dd446728-9993-477d-d9c1-5c7924e7f988"
      },
      "source": [
        "x1 = range(epochs)\r\n",
        "y1 = error_list\r\n",
        "\r\n",
        "plt.plot(x1,y1)\r\n",
        "plt.xlabel(\"number of iterations\")\r\n",
        "plt.ylabel(\"error\")\r\n",
        "plt.title(\"error graph in case of BGD and Momentum\")"
      ],
      "execution_count": 7,
      "outputs": [
        {
          "output_type": "execute_result",
          "data": {
            "text/plain": [
              "Text(0.5, 1.0, 'error graph in case of BGD and Momentum')"
            ]
          },
          "metadata": {
            "tags": []
          },
          "execution_count": 7
        },
        {
          "output_type": "display_data",
          "data": {
            "image/png": "[encoded data removed]",
            "text/plain": [
              "<Figure size 432x288 with 1 Axes>"
            ]
          },
          "metadata": {
            "tags": [],
            "needs_background": "light"
          }
        }
      ]
    },
    {
      "cell_type": "code",
      "metadata": {
        "colab": {
          "base_uri": "https://localhost:8080/",
          "height": 299
        },
        "id": "QZ-cxOxp-KPc",
        "outputId": "89af4a09-0f3d-4a86-9a5c-57c2633754d5"
      },
      "source": [
        "x2 = range(0,2)\r\n",
        "y2 = [m*i+c for i in x2]\r\n",
        "\r\n",
        "plt.plot(x2,y2)\r\n",
        "plt.scatter(x,y)\r\n",
        "plt.title(\"line which is generated after training\")"
      ],
      "execution_count": 6,
      "outputs": [
        {
          "output_type": "execute_result",
          "data": {
            "text/plain": [
              "Text(0.5, 1.0, 'line which is generated after training')"
            ]
          },
          "metadata": {
            "tags": []
          },
          "execution_count": 6
        },
        {
          "output_type": "display_data",
          "data": {
            "image/png": "[encoded data removed]",
            "text/plain": [
              "<Figure size 432x288 with 1 Axes>"
            ]
          },
          "metadata": {
            "tags": [],
            "needs_background": "light"
          }
        }
      ]
    },
    {
      "cell_type": "code",
      "metadata": {
        "id": "_zd_AvpV-WHq"
      },
      "source": [
        ""
      ],
      "execution_count": null,
      "outputs": []
    }
  ]
}