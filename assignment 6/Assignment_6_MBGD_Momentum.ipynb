{
  "nbformat": 4,
  "nbformat_minor": 0,
  "metadata": {
    "colab": {
      "name": "Assignment_6_MBGD_Momentum.ipynb",
      "provenance": []
    },
    "kernelspec": {
      "name": "python3",
      "display_name": "Python 3"
    }
  },
  "cells": [
    {
      "cell_type": "code",
      "metadata": {
        "id": "CZDCsZHmBkEQ"
      },
      "source": [
        "import math\r\n",
        "import random\r\n",
        "import matplotlib.pyplot as plt\r\n",
        "from random import shuffle"
      ],
      "execution_count": 16,
      "outputs": []
    },
    {
      "cell_type": "code",
      "metadata": {
        "id": "zOgjyxcgBnMy"
      },
      "source": [
        "def error(d,m,c):\r\n",
        "  sum = 0\r\n",
        "  for i in range(len(d)):\r\n",
        "    sum = sum + math.pow(d[i][1]-m*d[i][0]-c,2)\r\n",
        "  return 0.5*sum/len(d)"
      ],
      "execution_count": 17,
      "outputs": []
    },
    {
      "cell_type": "code",
      "metadata": {
        "id": "eFn6kge4Bo6l"
      },
      "source": [
        "def gradm(d,m,c):\r\n",
        "  sum = 0\r\n",
        "  for i in range(len(d)):\r\n",
        "    sum = sum + (d[i][1]-m*d[i][0]-c)*d[i][0]\r\n",
        "  return -1*sum/len(d)"
      ],
      "execution_count": 18,
      "outputs": []
    },
    {
      "cell_type": "code",
      "metadata": {
        "id": "jiXFGo1kBo3f"
      },
      "source": [
        "def gradc(d,m,c):\r\n",
        "  sum = 0\r\n",
        "  for i in range(len(d)):\r\n",
        "    sum = sum + (d[i][1]-m*d[i][0]-c)\r\n",
        "  return -1*sum/len(d)"
      ],
      "execution_count": 19,
      "outputs": []
    },
    {
      "cell_type": "code",
      "metadata": {
        "id": "wjDzXGFHBo1M"
      },
      "source": [
        "number_of_samples = 6\r\n",
        "learning_rate = 0.1\r\n",
        "epochs = 100\r\n",
        "batch_size = 2\r\n",
        "m = -1\r\n",
        "c = 1\r\n",
        "\r\n",
        "v_m = 0\r\n",
        "v_c = 0\r\n",
        "momentum_coeff = 0.9\r\n",
        "number_of_batches = number_of_samples//batch_size"
      ],
      "execution_count": 20,
      "outputs": []
    },
    {
      "cell_type": "code",
      "metadata": {
        "colab": {
          "base_uri": "https://localhost:8080/"
        },
        "id": "S7WNoPTyBoyz",
        "outputId": "218f1bce-bd7d-40a3-8562-09d0e51c2dd8"
      },
      "source": [
        "x = [0.2,0.4,0.6,0.8,1.0,1.2]\r\n",
        "y = [3.4,3.8,4.2,4.6,5.0,5.4]\r\n",
        "\r\n",
        "data = list()\r\n",
        "\r\n",
        "for i in range(6):\r\n",
        "  data.append((x[i],y[i]))\r\n",
        "\r\n",
        "print(data)"
      ],
      "execution_count": 21,
      "outputs": [
        {
          "output_type": "stream",
          "text": [
            "[(0.2, 3.4), (0.4, 3.8), (0.6, 4.2), (0.8, 4.6), (1.0, 5.0), (1.2, 5.4)]\n"
          ],
          "name": "stdout"
        }
      ]
    },
    {
      "cell_type": "code",
      "metadata": {
        "id": "0uOfZoO8Bowb"
      },
      "source": [
        "error_list = []\r\n",
        "for i in range(epochs):\r\n",
        "  for j in range(number_of_batches):\r\n",
        "    if j == number_of_batches:\r\n",
        "      d = data[j*batch_size:]\r\n",
        "    else:\r\n",
        "      d = data[j*batch_size:(j+1)*batch_size]\r\n",
        "    deltam = -1*learning_rate*gradm(d,m,c)\r\n",
        "    deltac = -1*learning_rate*gradc(d,m,c)\r\n",
        "\r\n",
        "    v_m = v_m*momentum_coeff + deltam\r\n",
        "    v_c = v_c*momentum_coeff + deltac\r\n",
        "\r\n",
        "    m = m + v_m\r\n",
        "    c = c + v_c\r\n",
        "    \r\n",
        "    error_list.append(error(d,m,c))\r\n",
        "  random.shuffle(data)"
      ],
      "execution_count": 22,
      "outputs": []
    },
    {
      "cell_type": "code",
      "metadata": {
        "colab": {
          "base_uri": "https://localhost:8080/",
          "height": 313
        },
        "id": "xn4WCCbVBot1",
        "outputId": "951f32dd-0fa6-45e7-acc7-32e4f908cfad"
      },
      "source": [
        "x1 = range(epochs*(number_of_batches))\r\n",
        "y1 = error_list\r\n",
        "\r\n",
        "plt.plot(x1,y1)\r\n",
        "plt.xlabel(\"number of updations\")\r\n",
        "plt.ylabel(\"error\")\r\n",
        "plt.title(\"error graph in case of Mini Batch GD\")"
      ],
      "execution_count": 24,
      "outputs": [
        {
          "output_type": "execute_result",
          "data": {
            "text/plain": [
              "Text(0.5, 1.0, 'error graph in case of Mini Batch GD')"
            ]
          },
          "metadata": {
            "tags": []
          },
          "execution_count": 24
        },
        {
          "output_type": "display_data",
          "data": {
            "image/png": "[encoded data removed]",
            "text/plain": [
              "<Figure size 432x288 with 1 Axes>"
            ]
          },
          "metadata": {
            "tags": [],
            "needs_background": "light"
          }
        }
      ]
    },
    {
      "cell_type": "code",
      "metadata": {
        "colab": {
          "base_uri": "https://localhost:8080/",
          "height": 299
        },
        "id": "zeAXdLBYBore",
        "outputId": "ef83f6b3-e3c8-454c-e962-ef91c0cc7222"
      },
      "source": [
        "x2 = range(0,3)\r\n",
        "y2 = [m*i+c for i in x2]\r\n",
        "\r\n",
        "plt.plot(x2,y2)\r\n",
        "plt.scatter(x,y)\r\n",
        "plt.title(\"line which is generated after training\")"
      ],
      "execution_count": 25,
      "outputs": [
        {
          "output_type": "execute_result",
          "data": {
            "text/plain": [
              "Text(0.5, 1.0, 'line which is generated after training')"
            ]
          },
          "metadata": {
            "tags": []
          },
          "execution_count": 25
        },
        {
          "output_type": "display_data",
          "data": {
            "image/png": "[encoded data removed]",
            "text/plain": [
              "<Figure size 432x288 with 1 Axes>"
            ]
          },
          "metadata": {
            "tags": [],
            "needs_background": "light"
          }
        }
      ]
    },
    {
      "cell_type": "code",
      "metadata": {
        "colab": {
          "base_uri": "https://localhost:8080/"
        },
        "id": "SekYFDwrBonB",
        "outputId": "ee5c9ae9-0894-47c8-c375-5182a1c66a87"
      },
      "source": [
        "print(\"optimal value of m, c :\",m,c)"
      ],
      "execution_count": 26,
      "outputs": [
        {
          "output_type": "stream",
          "text": [
            "optimal value of m, c : 2.000000040392388 2.9999997915910606\n"
          ],
          "name": "stdout"
        }
      ]
    },
    {
      "cell_type": "code",
      "metadata": {
        "id": "QT-JSF6KDD2C"
      },
      "source": [
        ""
      ],
      "execution_count": null,
      "outputs": []
    }
  ]
}