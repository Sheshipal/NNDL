{
  "nbformat": 4,
  "nbformat_minor": 0,
  "metadata": {
    "colab": {
      "name": "Assignment_6_SGD_Momentum.ipynb",
      "provenance": []
    },
    "kernelspec": {
      "name": "python3",
      "display_name": "Python 3"
    }
  },
  "cells": [
    {
      "cell_type": "code",
      "metadata": {
        "id": "p8Re-695_GXD"
      },
      "source": [
        "import matplotlib.pyplot as plt"
      ],
      "execution_count": 1,
      "outputs": []
    },
    {
      "cell_type": "code",
      "metadata": {
        "colab": {
          "base_uri": "https://localhost:8080/"
        },
        "id": "Rmxdwp2E_Mnv",
        "outputId": "c9787360-acd5-430c-fb51-c45318d24eec"
      },
      "source": [
        "x = [0.2,0.4,0.6,0.8,1.0,1.2]\r\n",
        "y = [3.4,3.8,4.2,4.6,5.0,5.4]\r\n",
        "\r\n",
        "m = 1\r\n",
        "c = -1\r\n",
        "\r\n",
        "v_m = 0\r\n",
        "v_c = 0\r\n",
        "momentum_coeff = 0.9\r\n",
        "\r\n",
        "learning_rate = 0.01\r\n",
        "epochs = 50\r\n",
        "number_of_samples = 6\r\n",
        "error_list = []\r\n",
        "\r\n",
        "def gradientm(y,x,m,c):\r\n",
        "    return -1*(y-m*x-c)*x\r\n",
        "\r\n",
        "def gradientc(y,x,m,c):\r\n",
        "    return -1*(y-m*x-c)\r\n",
        "\r\n",
        "for i in range(epochs):\r\n",
        "    for j in range(number_of_samples):\r\n",
        "        error = 0.5 * (y[j] - m*x[j] - c)**2\r\n",
        "        error_list.append(error)\r\n",
        "        \r\n",
        "        deltam = -1*learning_rate*gradientm(y[j],x[j],m,c)\r\n",
        "        deltac = -1*learning_rate*gradientc(y[j],x[j],m,c)\r\n",
        "\r\n",
        "        v_m = v_m*momentum_coeff + deltam\r\n",
        "        v_c = v_c*momentum_coeff + deltac\r\n",
        "\r\n",
        "        m = m + v_m\r\n",
        "        c = c + v_c\r\n",
        "print(\"optimal value of m and c using SGD: \",m , c)"
      ],
      "execution_count": 6,
      "outputs": [
        {
          "output_type": "stream",
          "text": [
            "optimal value of m and c using SGD:  2.09709744324471 2.925884887469707\n"
          ],
          "name": "stdout"
        }
      ]
    },
    {
      "cell_type": "code",
      "metadata": {
        "colab": {
          "base_uri": "https://localhost:8080/",
          "height": 313
        },
        "id": "bOXLhNYY_UNY",
        "outputId": "735c895a-3653-49a8-a6e5-8e5887d9a1dd"
      },
      "source": [
        "x1 = range(epochs*6)\r\n",
        "y1 = error_list\r\n",
        "\r\n",
        "plt.plot(x1,y1)\r\n",
        "plt.xlabel(\"number of iterations\")\r\n",
        "plt.ylabel(\"error\")\r\n",
        "plt.title(\"error graph in case of SGD and Momentum\")"
      ],
      "execution_count": 7,
      "outputs": [
        {
          "output_type": "execute_result",
          "data": {
            "text/plain": [
              "Text(0.5, 1.0, 'error graph in case of SGD and Momentum')"
            ]
          },
          "metadata": {
            "tags": []
          },
          "execution_count": 7
        },
        {
          "output_type": "display_data",
          "data": {
            "image/png": "[encoded data removed]",
            "text/plain": [
              "<Figure size 432x288 with 1 Axes>"
            ]
          },
          "metadata": {
            "tags": [],
            "needs_background": "light"
          }
        }
      ]
    },
    {
      "cell_type": "code",
      "metadata": {
        "colab": {
          "base_uri": "https://localhost:8080/",
          "height": 299
        },
        "id": "PeBNTqBK_d3V",
        "outputId": "5634e9bb-bf0e-40d3-b3cc-bd0d105078fc"
      },
      "source": [
        "x2 = range(0,2)\r\n",
        "y2 = [m*i+c for i in x2]\r\n",
        "\r\n",
        "plt.plot(x2,y2)\r\n",
        "plt.scatter(x,y)\r\n",
        "plt.title(\"line which is generated after training\")\r\n"
      ],
      "execution_count": 8,
      "outputs": [
        {
          "output_type": "execute_result",
          "data": {
            "text/plain": [
              "Text(0.5, 1.0, 'line which is generated after training')"
            ]
          },
          "metadata": {
            "tags": []
          },
          "execution_count": 8
        },
        {
          "output_type": "display_data",
          "data": {
            "image/png": "[encoded data removed]",
            "text/plain": [
              "<Figure size 432x288 with 1 Axes>"
            ]
          },
          "metadata": {
            "tags": [],
            "needs_background": "light"
          }
        }
      ]
    },
    {
      "cell_type": "code",
      "metadata": {
        "id": "DMx8xjlAA2gX"
      },
      "source": [
        ""
      ],
      "execution_count": null,
      "outputs": []
    }
  ]
}